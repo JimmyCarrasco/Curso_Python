{
  "nbformat": 4,
  "nbformat_minor": 0,
  "metadata": {
    "colab": {
      "provenance": [],
      "authorship_tag": "ABX9TyNgajQA9/6wY2xjrRZp/HPn",
      "include_colab_link": true
    },
    "kernelspec": {
      "name": "python3",
      "display_name": "Python 3"
    },
    "language_info": {
      "name": "python"
    }
  },
  "cells": [
    {
      "cell_type": "markdown",
      "metadata": {
        "id": "view-in-github",
        "colab_type": "text"
      },
      "source": [
        "<a href=\"https://colab.research.google.com/github/JimmyCarrasco/Curso_Python/blob/main/modulo_3/Modulo_3_Tarea_2.ipynb\" target=\"_parent\"><img src=\"https://colab.research.google.com/assets/colab-badge.svg\" alt=\"Open In Colab\"/></a>"
      ]
    },
    {
      "cell_type": "code",
      "source": [
        "import numpy as np\n",
        "import random"
      ],
      "metadata": {
        "id": "JS0lGTCZYUE4"
      },
      "execution_count": null,
      "outputs": []
    },
    {
      "cell_type": "markdown",
      "source": [
        "TAREA 2\n",
        "\n",
        "En ambas preguntas puede generar 10 escenarios posibles y comentar sus resultados.\n",
        "\n",
        "\n",
        "Fecha de entrega: Martes 4/7 hasta las 22:00 horas."
      ],
      "metadata": {
        "id": "Ht1m9M-qXAMg"
      }
    },
    {
      "cell_type": "markdown",
      "source": [
        "**OCURRENCIAS (VARIABLE DISCRETA – POISSON)**"
      ],
      "metadata": {
        "id": "4-oaD74lo9vx"
      }
    },
    {
      "cell_type": "code",
      "execution_count": null,
      "metadata": {
        "colab": {
          "base_uri": "https://localhost:8080/"
        },
        "id": "p7rgSjQQNiKp",
        "outputId": "73d3dc6b-c825-4762-922b-6373d7035a6a"
      },
      "outputs": [
        {
          "output_type": "stream",
          "name": "stdout",
          "text": [
            "Escenario 1 : A lo largo de las cuatro horas, llegaron:  195 personas\n",
            "Escenario 2 : A lo largo de las cuatro horas, llegaron:  197 personas\n",
            "Escenario 3 : A lo largo de las cuatro horas, llegaron:  206 personas\n",
            "Escenario 4 : A lo largo de las cuatro horas, llegaron:  196 personas\n",
            "Escenario 5 : A lo largo de las cuatro horas, llegaron:  180 personas\n",
            "Escenario 6 : A lo largo de las cuatro horas, llegaron:  189 personas\n",
            "Escenario 7 : A lo largo de las cuatro horas, llegaron:  206 personas\n",
            "Escenario 8 : A lo largo de las cuatro horas, llegaron:  182 personas\n",
            "Escenario 9 : A lo largo de las cuatro horas, llegaron:  205 personas\n",
            "Escenario 10 : A lo largo de las cuatro horas, llegaron:  169 personas\n"
          ]
        }
      ],
      "source": [
        "# 1- El número promedio de clientes que recibe un banco es de 50 por hora.\n",
        "\n",
        "#   a) ¿Cuántas personas llegaran a lo largo de cuatro horas?\n",
        "#      - ocurrencias = 50\n",
        "#      - cantidad de simulaciones = 4\n",
        "\n",
        "for i in range(1,11):\n",
        "  valores_generados = np.random.poisson(50,4)\n",
        "  print(\"Escenario\", i,\": A lo largo de las cuatro horas, llegaron: \",np.sum(valores_generados), \"personas\")\n",
        "\n"
      ]
    },
    {
      "cell_type": "code",
      "source": [
        "# b)  ¿Si el máximo de personas que puede atender en un día en el banco\n",
        "#     es de 570 personas, cuantas horas habrán pasado hasta llegar a su límite?\n",
        "\n",
        "lista = []\n",
        "for i in range(1,1000000):\n",
        "  suma = 0\n",
        "  tiempo = 0\n",
        "\n",
        "  while suma <= 570:\n",
        "    suma += np.random.poisson(50)\n",
        "    tiempo += 1\n",
        "  lista.append(tiempo)\n",
        "\n",
        "lista = np.array(lista)\n",
        "print(\"El promedio de tiempo para atender a 570 personas es: \", lista.mean(), \"horas\")"
      ],
      "metadata": {
        "id": "Bk5FSHO7cHRg",
        "colab": {
          "base_uri": "https://localhost:8080/"
        },
        "outputId": "7deb284b-03a5-4b4a-e336-ca3ca830e750"
      },
      "execution_count": null,
      "outputs": [
        {
          "output_type": "stream",
          "name": "stdout",
          "text": [
            "El promedio de tiempo para atender a 570 personas es:  11.922144922144922 horas\n"
          ]
        }
      ]
    },
    {
      "cell_type": "markdown",
      "source": [
        "\n",
        "**TIEMPO DE ESPERA (VARIABLE CONTINUAS - UNIFORME)**"
      ],
      "metadata": {
        "id": "wk886ZlfpCfo"
      }
    },
    {
      "cell_type": "code",
      "source": [
        "# En tiempo de atención en minutos de una persona en un banco sigue una variable\n",
        "# continua uniforme de extremos 5 y 10. Responda las siguientes preguntas:\n",
        "\n",
        "# a) ¿Si el banco dispone de 8 ventanillas de atención, puede atender a 600\n",
        "#      personas en ocho horas?\n",
        "\n",
        "### Un ventanilla deberia considerar atender a 75 personas en 8 horas (480 min)\n",
        "\n",
        "for i in range(1,11):\n",
        "  tiempo_atencion = np.random.uniform(5,10,75)  ## rando del tiempo de atencion// cantidad de personas atendidas por ventanilla en las 8 horas\n",
        "  total_tiempo_atencion = np.sum(tiempo_atencion)\n",
        "  print(\"Escenario\",i,\"tiempo en atender a las 75 personas es\",total_tiempo_atencion,\"minutos\")\n"
      ],
      "metadata": {
        "colab": {
          "base_uri": "https://localhost:8080/"
        },
        "id": "z0C9IFyPo40p",
        "outputId": "5b97e0d3-26fa-494c-c660-f83a8ca9b057"
      },
      "execution_count": null,
      "outputs": [
        {
          "output_type": "stream",
          "name": "stdout",
          "text": [
            "Escenario 1 tiempo en atender a las 75 personas es 571.579869145716 minutos\n",
            "Escenario 2 tiempo en atender a las 75 personas es 563.0922334675305 minutos\n",
            "Escenario 3 tiempo en atender a las 75 personas es 574.6270189151962 minutos\n",
            "Escenario 4 tiempo en atender a las 75 personas es 554.0559585319277 minutos\n",
            "Escenario 5 tiempo en atender a las 75 personas es 582.2567216371214 minutos\n",
            "Escenario 6 tiempo en atender a las 75 personas es 565.5013572141711 minutos\n",
            "Escenario 7 tiempo en atender a las 75 personas es 548.2120379906894 minutos\n",
            "Escenario 8 tiempo en atender a las 75 personas es 569.2530870889804 minutos\n",
            "Escenario 9 tiempo en atender a las 75 personas es 561.4705653450595 minutos\n",
            "Escenario 10 tiempo en atender a las 75 personas es 577.3560962931062 minutos\n",
            "\n"
          ]
        }
      ]
    },
    {
      "cell_type": "markdown",
      "source": [
        "Respuesta: Estadisticamente, el banco con 8 ventanillas no puede atender a 600 personas en 8 horas, en los escenarios simulados se verifica que el tiempo simulado es mayor que 480 minutos."
      ],
      "metadata": {
        "id": "lbxdX0AayGii"
      }
    },
    {
      "cell_type": "code",
      "source": [
        "## b) Si al capacitar al personal, el tiempo de atención en minutos mejora y ahora\n",
        "##    es una variable continua uniforme de extremos 4 y 8, ¿se logra atender\n",
        "##     a las 600 personas con las 8 ventanillas de atención?\n",
        "\n",
        "for i in range(1,11):\n",
        "  tiempo_atencion = np.random.uniform(4,8,75)      ## rando del tiempo de atencion// cantidad de personas atendidas por ventanilla en las 8 horas\n",
        "  total_tiempo_atencion = np.sum(tiempo_atencion)\n",
        "  print(\"Escenario\",i,\"tiempo en atender a las 75 personas es\",total_tiempo_atencion,\"minutos\")"
      ],
      "metadata": {
        "colab": {
          "base_uri": "https://localhost:8080/"
        },
        "id": "S9zf1iR2pqLB",
        "outputId": "b322ca4a-20af-4a56-938f-7a1f6692fb29"
      },
      "execution_count": null,
      "outputs": [
        {
          "output_type": "stream",
          "name": "stdout",
          "text": [
            "Escenario 1 tiempo en atender a las 75 personas es 464.6712000760797 minutos\n",
            "Escenario 2 tiempo en atender a las 75 personas es 456.3445353639901 minutos\n",
            "Escenario 3 tiempo en atender a las 75 personas es 435.08938936239184 minutos\n",
            "Escenario 4 tiempo en atender a las 75 personas es 446.6268216247138 minutos\n",
            "Escenario 5 tiempo en atender a las 75 personas es 456.97350446742666 minutos\n",
            "Escenario 6 tiempo en atender a las 75 personas es 446.4389763774986 minutos\n",
            "Escenario 7 tiempo en atender a las 75 personas es 453.05667709067853 minutos\n",
            "Escenario 8 tiempo en atender a las 75 personas es 441.27374215948987 minutos\n",
            "Escenario 9 tiempo en atender a las 75 personas es 457.5378007843828 minutos\n",
            "Escenario 10 tiempo en atender a las 75 personas es 467.33612461341306 minutos\n"
          ]
        }
      ]
    },
    {
      "cell_type": "markdown",
      "source": [
        "Respuesta: Estadisticamente, el banco con 8 ventanillas y con un tiempo de atencion de 4 a 8 minutos, si lograría atender a 600 personas en 8 horas.\n",
        " En los escenarios simulados se verifica que el tiempo por cada ventanilla es menor a 480 minutos."
      ],
      "metadata": {
        "id": "NKwTRcq30uQy"
      }
    }
  ]
}