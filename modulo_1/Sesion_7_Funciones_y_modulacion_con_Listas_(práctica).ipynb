{
  "nbformat": 4,
  "nbformat_minor": 0,
  "metadata": {
    "colab": {
      "provenance": [],
      "include_colab_link": true
    },
    "kernelspec": {
      "name": "python3",
      "display_name": "Python 3"
    },
    "language_info": {
      "name": "python"
    }
  },
  "cells": [
    {
      "cell_type": "markdown",
      "metadata": {
        "id": "view-in-github",
        "colab_type": "text"
      },
      "source": [
        "<a href=\"https://colab.research.google.com/github/JimmyCarrasco/Curso_Python/blob/main/modulo_1/Sesion_7_Funciones_y_modulacion_con_Listas_(pr%C3%A1ctica).ipynb\" target=\"_parent\"><img src=\"https://colab.research.google.com/assets/colab-badge.svg\" alt=\"Open In Colab\"/></a>"
      ]
    },
    {
      "cell_type": "markdown",
      "source": [
        "  \n",
        "  Universidad : UTEC \\\\\n",
        "  Curso       : Programa de especialización en python \\\\\n",
        "  Profesor    : Cristian López Del Alamo \\\\\n",
        "  Tema        : Listas -  operaciones con listas \\\\\n",
        "  "
      ],
      "metadata": {
        "id": "6RI6RBc839ur"
      }
    },
    {
      "cell_type": "markdown",
      "source": [
        "Manejo de Listas en python\n",
        "\n",
        "| Método | Descripción |\n",
        "| --- | --- |\n",
        "| `append(item)` | Añade un elemento al final de la lista |\n",
        "| `extend(iterable)` | Añade los elementos de un iterable al final de la lista |\n",
        "| `insert(index, item)` | Inserta un elemento en una posición dada de la lista |\n",
        "| `remove(item)` | Elimina el primer elemento de la lista cuyo valor coincide con el elemento especificado |\n",
        "| `pop(index)` | Elimina el elemento en la posición dada de la lista y lo devuelve. Si no se especifica una posición, elimina y devuelve el último elemento de la lista |\n",
        "| `clear()` | Elimina todos los elementos de la lista |\n",
        "| `index(item[, start[, end]])` | Devuelve el índice del primer elemento de la lista cuyo valor coincide con el elemento especificado. Si se especifican los argumentos de inicio y fin, se busca en el segmento de la lista que se encuentra entre ellos |\n",
        "| `count(item)` | Devuelve el número de veces que un elemento aparece en la lista |\n",
        "| `sort(key=None, reverse=False)` | Ordena los elementos de la lista de menor a mayor. El argumento opcional `key` permite especificar una función para personalizar el ordenamiento, y el argumento opcional `reverse` permite ordenar en orden descendente |\n",
        "| `reverse()` | Invierte el orden de los elementos de la lista |"
      ],
      "metadata": {
        "id": "wdqxQzStexvy"
      }
    },
    {
      "cell_type": "code",
      "source": [
        "# Ejemplos de append\n",
        "L1 = [1,6,3,6,5,6]\n",
        "#L2 = [1,83,74,859,96,7]\n",
        "#L1.extend(L2)\n",
        "#print(L1)\n",
        "\n",
        "#L1.insert(len(L1)//2,666)\n",
        "#print(L1)\n",
        "\n",
        "#L1.remove(6)// Elimina el valor 6\n",
        "#print(L1)\n",
        "#print(L1.pop(3))\n",
        " # Elimina el elemento el la pos 6.\n",
        "#print<(L1)\n",
        "\n",
        "#print(L1.index(5))\n",
        "\n",
        "L1.sort()\n",
        "print(L1)\n",
        "\n",
        "#L1.clear() # elimina todo\n",
        "#print(L1)\n",
        "\n",
        "\n"
      ],
      "metadata": {
        "id": "ew2mjYK5kK7f",
        "colab": {
          "base_uri": "https://localhost:8080/"
        },
        "outputId": "29220903-571a-4265-dbee-e7c7833cf15b"
      },
      "execution_count": null,
      "outputs": [
        {
          "output_type": "stream",
          "name": "stdout",
          "text": [
            "[1, 3, 5, 6, 6, 6]\n"
          ]
        }
      ]
    },
    {
      "cell_type": "markdown",
      "source": [
        "Utilizando las funciones de listas. Resuelvan, en equipos, los siguentes algoritmos.\n",
        "--------------------------------------\n",
        "\n",
        "a) Copiar los elementos de una lista a otra lista usando solo las funciones append y pop. Puede usar una lista adicional como temporal.(Hans)\n",
        "\n",
        "b) Usando la función remove y count, quitar todos los elementos repetidos de una lista. Imagine la lista [5, 4, 6, 5, 4, 3, 7, 6, 5, 5, 4, 2, 3, 4, 3, 5].\n",
        "(Karel)\n",
        "\n",
        "c) Se tiene un elemento x y se intenta encontrar dos elementos en una lista L, de modo que ambos elementos sumen x. Con las funciones de la propia lista, intente resolver este problema. (Marco Villena)\n",
        "\n",
        "d) Se tiene una lista de nombres y se requiere encontrar en qué posición se encuentran (los índices) todos los nombres que empiezan, por ejemplo, con \"do\".\n",
        "(Noriyuki)\n",
        "\n",
        "e) Se tiene una lista de datos numéricos y se quiere saber la frecuencia de cada uno de ellos. Ejemplo: en esta lista [5, 4, 6, 5, 4, 3, 7, 6, 5, 5, 4, 2, 3, 4, 5, 5], {item 2: Frecuencia 1, item 3: Frecuencia 2, item 4: Frecuencia 4, item 5: Frecuencia 6, item 6: Frecuencia 1}. Diego, Zay Hernan\n",
        "\n",
        "f) Se tiene una lista de nombres de archivos y se requiere encontrar los nombres de los archivos repetidos en la lista, pero solo de aquellos que tienen extensión, por ejemplo, \"pdf\".\n",
        "\n",
        "g) Usando las funciones de listas cree un triángulo rectángulo"
      ],
      "metadata": {
        "id": "gpALv6Gjgs9X"
      }
    },
    {
      "cell_type": "code",
      "source": [
        "l = [\"file1.txt\",\"python.pdf\",\"libro.doc\",\"python.pdf\",\"UTEC.pdf\"]\n",
        "\n",
        "a = \"UTEC.pdf\"\n",
        "print(a[a-3:  ])\n",
        "\n",
        "\n"
      ],
      "metadata": {
        "id": "rgYkyUoLRKDH",
        "outputId": "ecc43018-a9ed-4176-8b42-94dbb9e808be",
        "colab": {
          "base_uri": "https://localhost:8080/"
        }
      },
      "execution_count": null,
      "outputs": [
        {
          "output_type": "stream",
          "name": "stdout",
          "text": [
            "pdf\n"
          ]
        }
      ]
    }
  ]
}